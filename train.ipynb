{
  "nbformat": 4,
  "nbformat_minor": 0,
  "metadata": {
    "kernelspec": {
      "display_name": "Python 3",
      "language": "python",
      "name": "python3"
    },
    "language_info": {
      "codemirror_mode": {
        "name": "ipython",
        "version": 2
      },
      "file_extension": ".py",
      "mimetype": "text/x-python",
      "name": "python",
      "nbconvert_exporter": "python",
      "pygments_lexer": "ipython2",
      "version": "2.7.6"
    },
    "pycharm": {
      "stem_cell": {
        "cell_type": "raw",
        "source": [],
        "metadata": {
          "collapsed": false
        }
      }
    },
    "colab": {
      "name": "train.ipynb",
      "provenance": []
    },
    "accelerator": "GPU"
  },
  "cells": [
    {
      "cell_type": "markdown",
      "metadata": {
        "collapsed": false,
        "id": "Jz1uzTqi-IE2",
        "colab_type": "text"
      },
      "source": [
        "<a href=\"https://colab.research.google.com/github/nbro/sadl/blob/master/train.ipynb\" target=\"_parent\"><img src=\"https://colab.research.google.com/assets/colab-badge.svg\" alt=\"Open In Colab\"/></a>"
      ]
    },
    {
      "cell_type": "markdown",
      "metadata": {
        "collapsed": false,
        "id": "U_Tpt_RV-IE3",
        "colab_type": "text"
      },
      "source": [
        "## Mount your Google Drive folder"
      ]
    },
    {
      "cell_type": "code",
      "metadata": {
        "pycharm": {
          "name": "#%%\n"
        },
        "id": "RwtJevwU-IE4",
        "colab_type": "code",
        "colab": {
          "base_uri": "https://localhost:8080/",
          "height": 122
        },
        "outputId": "989c8492-df1a-41ff-c62f-7a85cd89e696"
      },
      "source": [
        "from google.colab import drive\n",
        "\n",
        "# /content is a folder inside the Google's server, so we are mounting /drive under /content.\n",
        "drive.mount('/content/drive')"
      ],
      "execution_count": 1,
      "outputs": [
        {
          "output_type": "stream",
          "text": [
            "Go to this URL in a browser: https://accounts.google.com/o/oauth2/auth?client_id=947318989803-6bn6qk8qdgf4n4g3pfee6491hc0brc4i.apps.googleusercontent.com&redirect_uri=urn%3aietf%3awg%3aoauth%3a2.0%3aoob&response_type=code&scope=email%20https%3a%2f%2fwww.googleapis.com%2fauth%2fdocs.test%20https%3a%2f%2fwww.googleapis.com%2fauth%2fdrive%20https%3a%2f%2fwww.googleapis.com%2fauth%2fdrive.photos.readonly%20https%3a%2f%2fwww.googleapis.com%2fauth%2fpeopleapi.readonly\n",
            "\n",
            "Enter your authorization code:\n",
            "··········\n",
            "Mounted at /content/drive\n"
          ],
          "name": "stdout"
        }
      ]
    },
    {
      "cell_type": "markdown",
      "metadata": {
        "collapsed": false,
        "id": "RkNGtdrS-IE7",
        "colab_type": "text"
      },
      "source": [
        "## Download the Github repository"
      ]
    },
    {
      "cell_type": "code",
      "metadata": {
        "pycharm": {
          "name": "#%%\n"
        },
        "id": "g77J6YvO-IE8",
        "colab_type": "code",
        "colab": {
          "base_uri": "https://localhost:8080/",
          "height": 153
        },
        "outputId": "8717a69b-f588-45e7-c9ca-00d30dd00f8a"
      },
      "source": [
        "from getpass import getpass\n",
        "import os\n",
        "\n",
        "os.environ['USER'] = \"nbro\"\n",
        "os.environ['PASSWORD'] = getpass('Enter the password of your Github account: ')\n",
        "os.environ['REPOSITORY'] = \"sadl\"\n",
        "os.environ['GITHUB_AUTH'] = os.environ['USER'] + ':' + os.environ['PASSWORD']\n",
        "\n",
        "!rm -rf $REPOSITORY # To remove the previous clone of the Github repository\n",
        "!git clone https://$GITHUB_AUTH@github.com/$USER/$REPOSITORY.git\n",
        "\n",
        "os.environ['USER'] = os.environ['PASSWORD'] = os.environ['GITHUB_AUTH'] = \"\""
      ],
      "execution_count": 2,
      "outputs": [
        {
          "output_type": "stream",
          "text": [
            "Enter the password of your Github account: ··········\n",
            "Cloning into 'sadl'...\n",
            "remote: Enumerating objects: 12, done.\u001b[K\n",
            "remote: Counting objects: 100% (12/12), done.\u001b[K\n",
            "remote: Compressing objects: 100% (10/10), done.\u001b[K\n",
            "remote: Total 132 (delta 2), reused 8 (delta 2), pack-reused 120\u001b[K\n",
            "Receiving objects: 100% (132/132), 5.46 MiB | 7.86 MiB/s, done.\n",
            "Resolving deltas: 100% (36/36), done.\n"
          ],
          "name": "stdout"
        }
      ]
    },
    {
      "cell_type": "markdown",
      "metadata": {
        "collapsed": false,
        "id": "9a5970vA-IE_",
        "colab_type": "text"
      },
      "source": [
        "## List the files"
      ]
    },
    {
      "cell_type": "code",
      "metadata": {
        "pycharm": {
          "name": "#%%\n"
        },
        "id": "c-mLdjCz-IE_",
        "colab_type": "code",
        "colab": {
          "base_uri": "https://localhost:8080/",
          "height": 68
        },
        "outputId": "fee06091-19e0-4341-b511-63c9c1e450e1"
      },
      "source": [
        "%cd sadl\n",
        "!ls"
      ],
      "execution_count": 3,
      "outputs": [
        {
          "output_type": "stream",
          "text": [
            "/content/sadl\n",
            "adv   LICENSE  README.md\t run.py  tmp\t      train_model.py\n",
            "docs  model    requirements.txt  sa.py\t train.ipynb  utils.py\n"
          ],
          "name": "stdout"
        }
      ]
    },
    {
      "cell_type": "markdown",
      "metadata": {
        "collapsed": false,
        "pycharm": {
          "name": "#%% md\n"
        },
        "id": "h1t0sYg1-IFC",
        "colab_type": "text"
      },
      "source": [
        "## Install the dependencies"
      ]
    },
    {
      "cell_type": "code",
      "metadata": {
        "pycharm": {
          "name": "#%%\n"
        },
        "id": "LbKVemsh-IFD",
        "colab_type": "code",
        "colab": {
          "base_uri": "https://localhost:8080/",
          "height": 1000
        },
        "outputId": "f90a278a-1aa8-49f3-d727-c45e5a373a78"
      },
      "source": [
        "!pip install --upgrade -r requirements.txt # --force-reinstall"
      ],
      "execution_count": 4,
      "outputs": [
        {
          "output_type": "stream",
          "text": [
            "Requirement already up-to-date: tensorflow==2.2 in /usr/local/lib/python3.6/dist-packages (from -r requirements.txt (line 1)) (2.2.0)\n",
            "Requirement already up-to-date: scipy in /usr/local/lib/python3.6/dist-packages (from -r requirements.txt (line 2)) (1.4.1)\n",
            "Collecting tqdm\n",
            "\u001b[?25l  Downloading https://files.pythonhosted.org/packages/f3/76/4697ce203a3d42b2ead61127b35e5fcc26bba9a35c03b32a2bd342a4c869/tqdm-4.46.1-py2.py3-none-any.whl (63kB)\n",
            "\u001b[K     |████████████████████████████████| 71kB 3.7MB/s \n",
            "\u001b[?25hCollecting scikit-learn\n",
            "\u001b[?25l  Downloading https://files.pythonhosted.org/packages/d9/3a/eb8d7bbe28f4787d140bb9df685b7d5bf6115c0e2a969def4027144e98b6/scikit_learn-0.23.1-cp36-cp36m-manylinux1_x86_64.whl (6.8MB)\n",
            "\u001b[K     |████████████████████████████████| 6.9MB 8.9MB/s \n",
            "\u001b[?25hRequirement already up-to-date: setuptools>=41.0.0 in /usr/local/lib/python3.6/dist-packages (from -r requirements.txt (line 5)) (47.1.1)\n",
            "Requirement already satisfied, skipping upgrade: gast==0.3.3 in /usr/local/lib/python3.6/dist-packages (from tensorflow==2.2->-r requirements.txt (line 1)) (0.3.3)\n",
            "Requirement already satisfied, skipping upgrade: tensorboard<2.3.0,>=2.2.0 in /usr/local/lib/python3.6/dist-packages (from tensorflow==2.2->-r requirements.txt (line 1)) (2.2.2)\n",
            "Requirement already satisfied, skipping upgrade: opt-einsum>=2.3.2 in /usr/local/lib/python3.6/dist-packages (from tensorflow==2.2->-r requirements.txt (line 1)) (3.2.1)\n",
            "Requirement already satisfied, skipping upgrade: protobuf>=3.8.0 in /usr/local/lib/python3.6/dist-packages (from tensorflow==2.2->-r requirements.txt (line 1)) (3.10.0)\n",
            "Requirement already satisfied, skipping upgrade: wrapt>=1.11.1 in /usr/local/lib/python3.6/dist-packages (from tensorflow==2.2->-r requirements.txt (line 1)) (1.12.1)\n",
            "Requirement already satisfied, skipping upgrade: absl-py>=0.7.0 in /usr/local/lib/python3.6/dist-packages (from tensorflow==2.2->-r requirements.txt (line 1)) (0.9.0)\n",
            "Requirement already satisfied, skipping upgrade: six>=1.12.0 in /usr/local/lib/python3.6/dist-packages (from tensorflow==2.2->-r requirements.txt (line 1)) (1.12.0)\n",
            "Requirement already satisfied, skipping upgrade: tensorflow-estimator<2.3.0,>=2.2.0 in /usr/local/lib/python3.6/dist-packages (from tensorflow==2.2->-r requirements.txt (line 1)) (2.2.0)\n",
            "Requirement already satisfied, skipping upgrade: grpcio>=1.8.6 in /usr/local/lib/python3.6/dist-packages (from tensorflow==2.2->-r requirements.txt (line 1)) (1.29.0)\n",
            "Requirement already satisfied, skipping upgrade: keras-preprocessing>=1.1.0 in /usr/local/lib/python3.6/dist-packages (from tensorflow==2.2->-r requirements.txt (line 1)) (1.1.2)\n",
            "Requirement already satisfied, skipping upgrade: astunparse==1.6.3 in /usr/local/lib/python3.6/dist-packages (from tensorflow==2.2->-r requirements.txt (line 1)) (1.6.3)\n",
            "Requirement already satisfied, skipping upgrade: numpy<2.0,>=1.16.0 in /usr/local/lib/python3.6/dist-packages (from tensorflow==2.2->-r requirements.txt (line 1)) (1.18.4)\n",
            "Requirement already satisfied, skipping upgrade: google-pasta>=0.1.8 in /usr/local/lib/python3.6/dist-packages (from tensorflow==2.2->-r requirements.txt (line 1)) (0.2.0)\n",
            "Requirement already satisfied, skipping upgrade: termcolor>=1.1.0 in /usr/local/lib/python3.6/dist-packages (from tensorflow==2.2->-r requirements.txt (line 1)) (1.1.0)\n",
            "Requirement already satisfied, skipping upgrade: wheel>=0.26; python_version >= \"3\" in /usr/local/lib/python3.6/dist-packages (from tensorflow==2.2->-r requirements.txt (line 1)) (0.34.2)\n",
            "Requirement already satisfied, skipping upgrade: h5py<2.11.0,>=2.10.0 in /usr/local/lib/python3.6/dist-packages (from tensorflow==2.2->-r requirements.txt (line 1)) (2.10.0)\n",
            "Collecting threadpoolctl>=2.0.0\n",
            "  Downloading https://files.pythonhosted.org/packages/f7/12/ec3f2e203afa394a149911729357aa48affc59c20e2c1c8297a60f33f133/threadpoolctl-2.1.0-py3-none-any.whl\n",
            "Requirement already satisfied, skipping upgrade: joblib>=0.11 in /usr/local/lib/python3.6/dist-packages (from scikit-learn->-r requirements.txt (line 4)) (0.15.1)\n",
            "Requirement already satisfied, skipping upgrade: tensorboard-plugin-wit>=1.6.0 in /usr/local/lib/python3.6/dist-packages (from tensorboard<2.3.0,>=2.2.0->tensorflow==2.2->-r requirements.txt (line 1)) (1.6.0.post3)\n",
            "Requirement already satisfied, skipping upgrade: google-auth-oauthlib<0.5,>=0.4.1 in /usr/local/lib/python3.6/dist-packages (from tensorboard<2.3.0,>=2.2.0->tensorflow==2.2->-r requirements.txt (line 1)) (0.4.1)\n",
            "Requirement already satisfied, skipping upgrade: werkzeug>=0.11.15 in /usr/local/lib/python3.6/dist-packages (from tensorboard<2.3.0,>=2.2.0->tensorflow==2.2->-r requirements.txt (line 1)) (1.0.1)\n",
            "Requirement already satisfied, skipping upgrade: markdown>=2.6.8 in /usr/local/lib/python3.6/dist-packages (from tensorboard<2.3.0,>=2.2.0->tensorflow==2.2->-r requirements.txt (line 1)) (3.2.2)\n",
            "Requirement already satisfied, skipping upgrade: requests<3,>=2.21.0 in /usr/local/lib/python3.6/dist-packages (from tensorboard<2.3.0,>=2.2.0->tensorflow==2.2->-r requirements.txt (line 1)) (2.23.0)\n",
            "Requirement already satisfied, skipping upgrade: google-auth<2,>=1.6.3 in /usr/local/lib/python3.6/dist-packages (from tensorboard<2.3.0,>=2.2.0->tensorflow==2.2->-r requirements.txt (line 1)) (1.7.2)\n",
            "Requirement already satisfied, skipping upgrade: requests-oauthlib>=0.7.0 in /usr/local/lib/python3.6/dist-packages (from google-auth-oauthlib<0.5,>=0.4.1->tensorboard<2.3.0,>=2.2.0->tensorflow==2.2->-r requirements.txt (line 1)) (1.3.0)\n",
            "Requirement already satisfied, skipping upgrade: importlib-metadata; python_version < \"3.8\" in /usr/local/lib/python3.6/dist-packages (from markdown>=2.6.8->tensorboard<2.3.0,>=2.2.0->tensorflow==2.2->-r requirements.txt (line 1)) (1.6.0)\n",
            "Requirement already satisfied, skipping upgrade: certifi>=2017.4.17 in /usr/local/lib/python3.6/dist-packages (from requests<3,>=2.21.0->tensorboard<2.3.0,>=2.2.0->tensorflow==2.2->-r requirements.txt (line 1)) (2020.4.5.1)\n",
            "Requirement already satisfied, skipping upgrade: idna<3,>=2.5 in /usr/local/lib/python3.6/dist-packages (from requests<3,>=2.21.0->tensorboard<2.3.0,>=2.2.0->tensorflow==2.2->-r requirements.txt (line 1)) (2.9)\n",
            "Requirement already satisfied, skipping upgrade: chardet<4,>=3.0.2 in /usr/local/lib/python3.6/dist-packages (from requests<3,>=2.21.0->tensorboard<2.3.0,>=2.2.0->tensorflow==2.2->-r requirements.txt (line 1)) (3.0.4)\n",
            "Requirement already satisfied, skipping upgrade: urllib3!=1.25.0,!=1.25.1,<1.26,>=1.21.1 in /usr/local/lib/python3.6/dist-packages (from requests<3,>=2.21.0->tensorboard<2.3.0,>=2.2.0->tensorflow==2.2->-r requirements.txt (line 1)) (1.24.3)\n",
            "Requirement already satisfied, skipping upgrade: cachetools<3.2,>=2.0.0 in /usr/local/lib/python3.6/dist-packages (from google-auth<2,>=1.6.3->tensorboard<2.3.0,>=2.2.0->tensorflow==2.2->-r requirements.txt (line 1)) (3.1.1)\n",
            "Requirement already satisfied, skipping upgrade: pyasn1-modules>=0.2.1 in /usr/local/lib/python3.6/dist-packages (from google-auth<2,>=1.6.3->tensorboard<2.3.0,>=2.2.0->tensorflow==2.2->-r requirements.txt (line 1)) (0.2.8)\n",
            "Requirement already satisfied, skipping upgrade: rsa<4.1,>=3.1.4 in /usr/local/lib/python3.6/dist-packages (from google-auth<2,>=1.6.3->tensorboard<2.3.0,>=2.2.0->tensorflow==2.2->-r requirements.txt (line 1)) (4.0)\n",
            "Requirement already satisfied, skipping upgrade: oauthlib>=3.0.0 in /usr/local/lib/python3.6/dist-packages (from requests-oauthlib>=0.7.0->google-auth-oauthlib<0.5,>=0.4.1->tensorboard<2.3.0,>=2.2.0->tensorflow==2.2->-r requirements.txt (line 1)) (3.1.0)\n",
            "Requirement already satisfied, skipping upgrade: zipp>=0.5 in /usr/local/lib/python3.6/dist-packages (from importlib-metadata; python_version < \"3.8\"->markdown>=2.6.8->tensorboard<2.3.0,>=2.2.0->tensorflow==2.2->-r requirements.txt (line 1)) (3.1.0)\n",
            "Requirement already satisfied, skipping upgrade: pyasn1<0.5.0,>=0.4.6 in /usr/local/lib/python3.6/dist-packages (from pyasn1-modules>=0.2.1->google-auth<2,>=1.6.3->tensorboard<2.3.0,>=2.2.0->tensorflow==2.2->-r requirements.txt (line 1)) (0.4.8)\n",
            "Installing collected packages: tqdm, threadpoolctl, scikit-learn\n",
            "  Found existing installation: tqdm 4.41.1\n",
            "    Uninstalling tqdm-4.41.1:\n",
            "      Successfully uninstalled tqdm-4.41.1\n",
            "  Found existing installation: scikit-learn 0.22.2.post1\n",
            "    Uninstalling scikit-learn-0.22.2.post1:\n",
            "      Successfully uninstalled scikit-learn-0.22.2.post1\n",
            "Successfully installed scikit-learn-0.23.1 threadpoolctl-2.1.0 tqdm-4.46.1\n"
          ],
          "name": "stdout"
        },
        {
          "output_type": "display_data",
          "data": {
            "application/vnd.colab-display-data+json": {
              "pip_warning": {
                "packages": [
                  "tqdm"
                ]
              }
            }
          },
          "metadata": {
            "tags": []
          }
        }
      ]
    },
    {
      "cell_type": "markdown",
      "metadata": {
        "collapsed": false,
        "id": "w0hAZ39X-IFG",
        "colab_type": "text"
      },
      "source": [
        "## Is a GPU available?"
      ]
    },
    {
      "cell_type": "code",
      "metadata": {
        "pycharm": {
          "name": "#%%\n"
        },
        "id": "pXg6bS65-IFG",
        "colab_type": "code",
        "colab": {
          "base_uri": "https://localhost:8080/",
          "height": 34
        },
        "outputId": "b4e87b34-69bb-4d27-8070-f6be5e86b33e"
      },
      "source": [
        "import tensorflow as tf\n",
        "\n",
        "assert len(tf.config.experimental.list_physical_devices('GPU')) >= 1\n",
        "print(\"GPUs available: \", tf.config.experimental.list_physical_devices('GPU'))"
      ],
      "execution_count": 5,
      "outputs": [
        {
          "output_type": "stream",
          "text": [
            "GPUs available:  [PhysicalDevice(name='/physical_device:GPU:0', device_type='GPU')]\n"
          ],
          "name": "stdout"
        }
      ]
    },
    {
      "cell_type": "markdown",
      "metadata": {
        "collapsed": false,
        "id": "3uwSCozB-IFJ",
        "colab_type": "text"
      },
      "source": [
        "## Train the models and calculate SA"
      ]
    },
    {
      "cell_type": "code",
      "metadata": {
        "pycharm": {
          "name": "#%%\n"
        },
        "id": "HuKI1890-IFJ",
        "colab_type": "code",
        "colab": {
          "base_uri": "https://localhost:8080/",
          "height": 1000
        },
        "outputId": "4ae04441-5b1f-4ebb-f947-e005f9418ba0"
      },
      "source": [
        "!python train_model.py -d mnist\n",
        "!python run.py -lsa\n",
        "!python run.py -dsa"
      ],
      "execution_count": 6,
      "outputs": [
        {
          "output_type": "stream",
          "text": [
            "2020-06-06 14:12:49.820571: I tensorflow/stream_executor/platform/default/dso_loader.cc:44] Successfully opened dynamic library libcudart.so.10.1\n",
            "Downloading data from https://storage.googleapis.com/tensorflow/tf-keras-datasets/mnist.npz\n",
            "11493376/11490434 [==============================] - 0s 0us/step\n",
            "2020-06-06 14:12:52.498239: I tensorflow/stream_executor/platform/default/dso_loader.cc:44] Successfully opened dynamic library libcuda.so.1\n",
            "2020-06-06 14:12:52.501838: I tensorflow/stream_executor/cuda/cuda_gpu_executor.cc:981] successful NUMA node read from SysFS had negative value (-1), but there must be at least one NUMA node, so returning NUMA node zero\n",
            "2020-06-06 14:12:52.502597: I tensorflow/core/common_runtime/gpu/gpu_device.cc:1561] Found device 0 with properties: \n",
            "pciBusID: 0000:00:04.0 name: Tesla K80 computeCapability: 3.7\n",
            "coreClock: 0.8235GHz coreCount: 13 deviceMemorySize: 11.17GiB deviceMemoryBandwidth: 223.96GiB/s\n",
            "2020-06-06 14:12:52.502643: I tensorflow/stream_executor/platform/default/dso_loader.cc:44] Successfully opened dynamic library libcudart.so.10.1\n",
            "2020-06-06 14:12:52.504335: I tensorflow/stream_executor/platform/default/dso_loader.cc:44] Successfully opened dynamic library libcublas.so.10\n",
            "2020-06-06 14:12:52.505905: I tensorflow/stream_executor/platform/default/dso_loader.cc:44] Successfully opened dynamic library libcufft.so.10\n",
            "2020-06-06 14:12:52.506334: I tensorflow/stream_executor/platform/default/dso_loader.cc:44] Successfully opened dynamic library libcurand.so.10\n",
            "2020-06-06 14:12:52.508207: I tensorflow/stream_executor/platform/default/dso_loader.cc:44] Successfully opened dynamic library libcusolver.so.10\n",
            "2020-06-06 14:12:52.508996: I tensorflow/stream_executor/platform/default/dso_loader.cc:44] Successfully opened dynamic library libcusparse.so.10\n",
            "2020-06-06 14:12:52.512301: I tensorflow/stream_executor/platform/default/dso_loader.cc:44] Successfully opened dynamic library libcudnn.so.7\n",
            "2020-06-06 14:12:52.512435: I tensorflow/stream_executor/cuda/cuda_gpu_executor.cc:981] successful NUMA node read from SysFS had negative value (-1), but there must be at least one NUMA node, so returning NUMA node zero\n",
            "2020-06-06 14:12:52.513243: I tensorflow/stream_executor/cuda/cuda_gpu_executor.cc:981] successful NUMA node read from SysFS had negative value (-1), but there must be at least one NUMA node, so returning NUMA node zero\n",
            "2020-06-06 14:12:52.513939: I tensorflow/core/common_runtime/gpu/gpu_device.cc:1703] Adding visible gpu devices: 0\n",
            "2020-06-06 14:12:52.531405: I tensorflow/core/platform/profile_utils/cpu_utils.cc:102] CPU Frequency: 2300000000 Hz\n",
            "2020-06-06 14:12:52.531908: I tensorflow/compiler/xla/service/service.cc:168] XLA service 0x2d6b100 initialized for platform Host (this does not guarantee that XLA will be used). Devices:\n",
            "2020-06-06 14:12:52.531948: I tensorflow/compiler/xla/service/service.cc:176]   StreamExecutor device (0): Host, Default Version\n",
            "2020-06-06 14:12:52.611996: I tensorflow/stream_executor/cuda/cuda_gpu_executor.cc:981] successful NUMA node read from SysFS had negative value (-1), but there must be at least one NUMA node, so returning NUMA node zero\n",
            "2020-06-06 14:12:52.612920: I tensorflow/compiler/xla/service/service.cc:168] XLA service 0x2d6af40 initialized for platform CUDA (this does not guarantee that XLA will be used). Devices:\n",
            "2020-06-06 14:12:52.612969: I tensorflow/compiler/xla/service/service.cc:176]   StreamExecutor device (0): Tesla K80, Compute Capability 3.7\n",
            "2020-06-06 14:12:52.614303: I tensorflow/stream_executor/cuda/cuda_gpu_executor.cc:981] successful NUMA node read from SysFS had negative value (-1), but there must be at least one NUMA node, so returning NUMA node zero\n",
            "2020-06-06 14:12:52.615031: I tensorflow/core/common_runtime/gpu/gpu_device.cc:1561] Found device 0 with properties: \n",
            "pciBusID: 0000:00:04.0 name: Tesla K80 computeCapability: 3.7\n",
            "coreClock: 0.8235GHz coreCount: 13 deviceMemorySize: 11.17GiB deviceMemoryBandwidth: 223.96GiB/s\n",
            "2020-06-06 14:12:52.615087: I tensorflow/stream_executor/platform/default/dso_loader.cc:44] Successfully opened dynamic library libcudart.so.10.1\n",
            "2020-06-06 14:12:52.615141: I tensorflow/stream_executor/platform/default/dso_loader.cc:44] Successfully opened dynamic library libcublas.so.10\n",
            "2020-06-06 14:12:52.615176: I tensorflow/stream_executor/platform/default/dso_loader.cc:44] Successfully opened dynamic library libcufft.so.10\n",
            "2020-06-06 14:12:52.615211: I tensorflow/stream_executor/platform/default/dso_loader.cc:44] Successfully opened dynamic library libcurand.so.10\n",
            "2020-06-06 14:12:52.615276: I tensorflow/stream_executor/platform/default/dso_loader.cc:44] Successfully opened dynamic library libcusolver.so.10\n",
            "2020-06-06 14:12:52.615310: I tensorflow/stream_executor/platform/default/dso_loader.cc:44] Successfully opened dynamic library libcusparse.so.10\n",
            "2020-06-06 14:12:52.615343: I tensorflow/stream_executor/platform/default/dso_loader.cc:44] Successfully opened dynamic library libcudnn.so.7\n",
            "2020-06-06 14:12:52.615462: I tensorflow/stream_executor/cuda/cuda_gpu_executor.cc:981] successful NUMA node read from SysFS had negative value (-1), but there must be at least one NUMA node, so returning NUMA node zero\n",
            "2020-06-06 14:12:52.616270: I tensorflow/stream_executor/cuda/cuda_gpu_executor.cc:981] successful NUMA node read from SysFS had negative value (-1), but there must be at least one NUMA node, so returning NUMA node zero\n",
            "2020-06-06 14:12:52.617106: I tensorflow/core/common_runtime/gpu/gpu_device.cc:1703] Adding visible gpu devices: 0\n",
            "2020-06-06 14:12:52.620757: I tensorflow/stream_executor/platform/default/dso_loader.cc:44] Successfully opened dynamic library libcudart.so.10.1\n",
            "2020-06-06 14:12:58.203713: I tensorflow/core/common_runtime/gpu/gpu_device.cc:1102] Device interconnect StreamExecutor with strength 1 edge matrix:\n",
            "2020-06-06 14:12:58.203773: I tensorflow/core/common_runtime/gpu/gpu_device.cc:1108]      0 \n",
            "2020-06-06 14:12:58.203792: I tensorflow/core/common_runtime/gpu/gpu_device.cc:1121] 0:   N \n",
            "2020-06-06 14:12:58.208688: I tensorflow/stream_executor/cuda/cuda_gpu_executor.cc:981] successful NUMA node read from SysFS had negative value (-1), but there must be at least one NUMA node, so returning NUMA node zero\n",
            "2020-06-06 14:12:58.209502: I tensorflow/stream_executor/cuda/cuda_gpu_executor.cc:981] successful NUMA node read from SysFS had negative value (-1), but there must be at least one NUMA node, so returning NUMA node zero\n",
            "2020-06-06 14:12:58.210227: W tensorflow/core/common_runtime/gpu/gpu_bfc_allocator.cc:39] Overriding allow_growth setting because the TF_FORCE_GPU_ALLOW_GROWTH environment variable is set. Original config value was 0.\n",
            "2020-06-06 14:12:58.210284: I tensorflow/core/common_runtime/gpu/gpu_device.cc:1247] Created TensorFlow device (/job:localhost/replica:0/task:0/device:GPU:0 with 10634 MB memory) -> physical GPU (device: 0, name: Tesla K80, pci bus id: 0000:00:04.0, compute capability: 3.7)\n",
            "Model: \"sequential\"\n",
            "_________________________________________________________________\n",
            "Layer (type)                 Output Shape              Param #   \n",
            "=================================================================\n",
            "conv2d (Conv2D)              (None, 26, 26, 64)        640       \n",
            "_________________________________________________________________\n",
            "activation (Activation)      (None, 26, 26, 64)        0         \n",
            "_________________________________________________________________\n",
            "conv2d_1 (Conv2D)            (None, 24, 24, 64)        36928     \n",
            "_________________________________________________________________\n",
            "activation_1 (Activation)    (None, 24, 24, 64)        0         \n",
            "_________________________________________________________________\n",
            "max_pooling2d (MaxPooling2D) (None, 12, 12, 64)        0         \n",
            "_________________________________________________________________\n",
            "dropout (Dropout)            (None, 12, 12, 64)        0         \n",
            "_________________________________________________________________\n",
            "flatten (Flatten)            (None, 9216)              0         \n",
            "_________________________________________________________________\n",
            "dense (Dense)                (None, 128)               1179776   \n",
            "_________________________________________________________________\n",
            "activation_2 (Activation)    (None, 128)               0         \n",
            "_________________________________________________________________\n",
            "dropout_1 (Dropout)          (None, 128)               0         \n",
            "_________________________________________________________________\n",
            "dense_1 (Dense)              (None, 10)                1290      \n",
            "_________________________________________________________________\n",
            "activation_3 (Activation)    (None, 10)                0         \n",
            "=================================================================\n",
            "Total params: 1,218,634\n",
            "Trainable params: 1,218,634\n",
            "Non-trainable params: 0\n",
            "_________________________________________________________________\n",
            "None\n",
            "Epoch 1/50\n",
            "2020-06-06 14:12:59.162039: I tensorflow/stream_executor/platform/default/dso_loader.cc:44] Successfully opened dynamic library libcublas.so.10\n",
            "2020-06-06 14:13:00.569546: I tensorflow/stream_executor/platform/default/dso_loader.cc:44] Successfully opened dynamic library libcudnn.so.7\n",
            "469/469 [==============================] - 9s 18ms/step - loss: 2.3045 - accuracy: 0.1051 - val_loss: 2.2862 - val_accuracy: 0.1289\n",
            "Epoch 2/50\n",
            "469/469 [==============================] - 8s 18ms/step - loss: 2.2849 - accuracy: 0.1374 - val_loss: 2.2638 - val_accuracy: 0.3694\n",
            "Epoch 3/50\n",
            "469/469 [==============================] - 8s 18ms/step - loss: 2.2650 - accuracy: 0.1796 - val_loss: 2.2374 - val_accuracy: 0.5146\n",
            "Epoch 4/50\n",
            "469/469 [==============================] - 8s 18ms/step - loss: 2.2393 - accuracy: 0.2317 - val_loss: 2.2026 - val_accuracy: 0.5890\n",
            "Epoch 5/50\n",
            "469/469 [==============================] - 8s 18ms/step - loss: 2.2063 - accuracy: 0.2786 - val_loss: 2.1559 - val_accuracy: 0.6401\n",
            "Epoch 6/50\n",
            "469/469 [==============================] - 8s 18ms/step - loss: 2.1608 - accuracy: 0.3307 - val_loss: 2.0949 - val_accuracy: 0.6702\n",
            "Epoch 7/50\n",
            "469/469 [==============================] - 8s 18ms/step - loss: 2.1023 - accuracy: 0.3824 - val_loss: 2.0178 - val_accuracy: 0.7017\n",
            "Epoch 8/50\n",
            "469/469 [==============================] - 8s 18ms/step - loss: 2.0314 - accuracy: 0.4247 - val_loss: 1.9228 - val_accuracy: 0.7241\n",
            "Epoch 9/50\n",
            "469/469 [==============================] - 8s 18ms/step - loss: 1.9397 - accuracy: 0.4725 - val_loss: 1.8092 - val_accuracy: 0.7395\n",
            "Epoch 10/50\n",
            "469/469 [==============================] - 8s 18ms/step - loss: 1.8373 - accuracy: 0.5109 - val_loss: 1.6796 - val_accuracy: 0.7551\n",
            "Epoch 11/50\n",
            "469/469 [==============================] - 8s 18ms/step - loss: 1.7220 - accuracy: 0.5451 - val_loss: 1.5380 - val_accuracy: 0.7697\n",
            "Epoch 12/50\n",
            "469/469 [==============================] - 8s 18ms/step - loss: 1.6068 - accuracy: 0.5683 - val_loss: 1.3943 - val_accuracy: 0.7846\n",
            "Epoch 13/50\n",
            "469/469 [==============================] - 8s 18ms/step - loss: 1.4854 - accuracy: 0.6002 - val_loss: 1.2560 - val_accuracy: 0.7942\n",
            "Epoch 14/50\n",
            "469/469 [==============================] - 8s 18ms/step - loss: 1.3744 - accuracy: 0.6240 - val_loss: 1.1297 - val_accuracy: 0.8032\n",
            "Epoch 15/50\n",
            "469/469 [==============================] - 8s 18ms/step - loss: 1.2793 - accuracy: 0.6413 - val_loss: 1.0192 - val_accuracy: 0.8150\n",
            "Epoch 16/50\n",
            "469/469 [==============================] - 8s 18ms/step - loss: 1.1884 - accuracy: 0.6594 - val_loss: 0.9246 - val_accuracy: 0.8226\n",
            "Epoch 17/50\n",
            "469/469 [==============================] - 8s 18ms/step - loss: 1.1122 - accuracy: 0.6799 - val_loss: 0.8451 - val_accuracy: 0.8276\n",
            "Epoch 18/50\n",
            "469/469 [==============================] - 8s 18ms/step - loss: 1.0500 - accuracy: 0.6901 - val_loss: 0.7789 - val_accuracy: 0.8352\n",
            "Epoch 19/50\n",
            "469/469 [==============================] - 8s 18ms/step - loss: 0.9961 - accuracy: 0.7057 - val_loss: 0.7240 - val_accuracy: 0.8412\n",
            "Epoch 20/50\n",
            "469/469 [==============================] - 8s 18ms/step - loss: 0.9476 - accuracy: 0.7161 - val_loss: 0.6776 - val_accuracy: 0.8476\n",
            "Epoch 21/50\n",
            "469/469 [==============================] - 8s 18ms/step - loss: 0.9049 - accuracy: 0.7290 - val_loss: 0.6387 - val_accuracy: 0.8505\n",
            "Epoch 22/50\n",
            "469/469 [==============================] - 8s 18ms/step - loss: 0.8688 - accuracy: 0.7364 - val_loss: 0.6054 - val_accuracy: 0.8567\n",
            "Epoch 23/50\n",
            "469/469 [==============================] - 8s 18ms/step - loss: 0.8378 - accuracy: 0.7455 - val_loss: 0.5771 - val_accuracy: 0.8608\n",
            "Epoch 24/50\n",
            "469/469 [==============================] - 8s 18ms/step - loss: 0.8093 - accuracy: 0.7516 - val_loss: 0.5526 - val_accuracy: 0.8648\n",
            "Epoch 25/50\n",
            "469/469 [==============================] - 9s 18ms/step - loss: 0.7846 - accuracy: 0.7582 - val_loss: 0.5310 - val_accuracy: 0.8683\n",
            "Epoch 26/50\n",
            "469/469 [==============================] - 8s 18ms/step - loss: 0.7582 - accuracy: 0.7698 - val_loss: 0.5113 - val_accuracy: 0.8709\n",
            "Epoch 27/50\n",
            "469/469 [==============================] - 8s 18ms/step - loss: 0.7388 - accuracy: 0.7736 - val_loss: 0.4943 - val_accuracy: 0.8730\n",
            "Epoch 28/50\n",
            "469/469 [==============================] - 8s 18ms/step - loss: 0.7231 - accuracy: 0.7777 - val_loss: 0.4790 - val_accuracy: 0.8768\n",
            "Epoch 29/50\n",
            "469/469 [==============================] - 8s 18ms/step - loss: 0.7037 - accuracy: 0.7829 - val_loss: 0.4655 - val_accuracy: 0.8784\n",
            "Epoch 30/50\n",
            "469/469 [==============================] - 8s 18ms/step - loss: 0.6883 - accuracy: 0.7866 - val_loss: 0.4531 - val_accuracy: 0.8817\n",
            "Epoch 31/50\n",
            "469/469 [==============================] - 8s 18ms/step - loss: 0.6706 - accuracy: 0.7920 - val_loss: 0.4416 - val_accuracy: 0.8834\n",
            "Epoch 32/50\n",
            "469/469 [==============================] - 8s 18ms/step - loss: 0.6634 - accuracy: 0.7946 - val_loss: 0.4315 - val_accuracy: 0.8852\n",
            "Epoch 33/50\n",
            "469/469 [==============================] - 8s 18ms/step - loss: 0.6477 - accuracy: 0.7998 - val_loss: 0.4221 - val_accuracy: 0.8870\n",
            "Epoch 34/50\n",
            "469/469 [==============================] - 8s 18ms/step - loss: 0.6349 - accuracy: 0.8049 - val_loss: 0.4133 - val_accuracy: 0.8891\n",
            "Epoch 35/50\n",
            "469/469 [==============================] - 8s 18ms/step - loss: 0.6262 - accuracy: 0.8062 - val_loss: 0.4053 - val_accuracy: 0.8913\n",
            "Epoch 36/50\n",
            "469/469 [==============================] - 8s 18ms/step - loss: 0.6199 - accuracy: 0.8078 - val_loss: 0.3980 - val_accuracy: 0.8928\n",
            "Epoch 37/50\n",
            "469/469 [==============================] - 8s 18ms/step - loss: 0.6034 - accuracy: 0.8133 - val_loss: 0.3907 - val_accuracy: 0.8938\n",
            "Epoch 38/50\n",
            "469/469 [==============================] - 8s 18ms/step - loss: 0.5923 - accuracy: 0.8178 - val_loss: 0.3837 - val_accuracy: 0.8957\n",
            "Epoch 39/50\n",
            "469/469 [==============================] - 8s 18ms/step - loss: 0.5840 - accuracy: 0.8193 - val_loss: 0.3776 - val_accuracy: 0.8966\n",
            "Epoch 40/50\n",
            "469/469 [==============================] - 8s 18ms/step - loss: 0.5784 - accuracy: 0.8205 - val_loss: 0.3719 - val_accuracy: 0.8980\n",
            "Epoch 41/50\n",
            "469/469 [==============================] - 8s 18ms/step - loss: 0.5709 - accuracy: 0.8225 - val_loss: 0.3665 - val_accuracy: 0.8996\n",
            "Epoch 42/50\n",
            "469/469 [==============================] - 8s 18ms/step - loss: 0.5657 - accuracy: 0.8256 - val_loss: 0.3614 - val_accuracy: 0.9004\n",
            "Epoch 43/50\n",
            "469/469 [==============================] - 8s 18ms/step - loss: 0.5588 - accuracy: 0.8273 - val_loss: 0.3562 - val_accuracy: 0.9026\n",
            "Epoch 44/50\n",
            "469/469 [==============================] - 8s 18ms/step - loss: 0.5535 - accuracy: 0.8294 - val_loss: 0.3517 - val_accuracy: 0.9036\n",
            "Epoch 45/50\n",
            "469/469 [==============================] - 8s 18ms/step - loss: 0.5438 - accuracy: 0.8324 - val_loss: 0.3471 - val_accuracy: 0.9050\n",
            "Epoch 46/50\n",
            "469/469 [==============================] - 8s 18ms/step - loss: 0.5367 - accuracy: 0.8349 - val_loss: 0.3423 - val_accuracy: 0.9061\n",
            "Epoch 47/50\n",
            "469/469 [==============================] - 8s 18ms/step - loss: 0.5353 - accuracy: 0.8345 - val_loss: 0.3383 - val_accuracy: 0.9068\n",
            "Epoch 48/50\n",
            "469/469 [==============================] - 8s 18ms/step - loss: 0.5267 - accuracy: 0.8372 - val_loss: 0.3343 - val_accuracy: 0.9084\n",
            "Epoch 49/50\n",
            "469/469 [==============================] - 8s 18ms/step - loss: 0.5198 - accuracy: 0.8390 - val_loss: 0.3304 - val_accuracy: 0.9090\n",
            "Epoch 50/50\n",
            "469/469 [==============================] - 8s 18ms/step - loss: 0.5134 - accuracy: 0.8428 - val_loss: 0.3265 - val_accuracy: 0.9101\n",
            "2020-06-06 14:20:02.174800: I tensorflow/stream_executor/platform/default/dso_loader.cc:44] Successfully opened dynamic library libcudart.so.10.1\n",
            "Namespace(batch_size=128, d='mnist', dsa=False, is_classification=True, lsa=True, n_bucket=1000, num_classes=10, save_path='./tmp/', target='fgsm', upper_bound=2000, var_threshold=1e-05)\n",
            "2020-06-06 14:20:04.757385: I tensorflow/stream_executor/platform/default/dso_loader.cc:44] Successfully opened dynamic library libcuda.so.1\n",
            "2020-06-06 14:20:04.760549: I tensorflow/stream_executor/cuda/cuda_gpu_executor.cc:981] successful NUMA node read from SysFS had negative value (-1), but there must be at least one NUMA node, so returning NUMA node zero\n",
            "2020-06-06 14:20:04.761264: I tensorflow/core/common_runtime/gpu/gpu_device.cc:1561] Found device 0 with properties: \n",
            "pciBusID: 0000:00:04.0 name: Tesla K80 computeCapability: 3.7\n",
            "coreClock: 0.8235GHz coreCount: 13 deviceMemorySize: 11.17GiB deviceMemoryBandwidth: 223.96GiB/s\n",
            "2020-06-06 14:20:04.761310: I tensorflow/stream_executor/platform/default/dso_loader.cc:44] Successfully opened dynamic library libcudart.so.10.1\n",
            "2020-06-06 14:20:04.762842: I tensorflow/stream_executor/platform/default/dso_loader.cc:44] Successfully opened dynamic library libcublas.so.10\n",
            "2020-06-06 14:20:04.764321: I tensorflow/stream_executor/platform/default/dso_loader.cc:44] Successfully opened dynamic library libcufft.so.10\n",
            "2020-06-06 14:20:04.764695: I tensorflow/stream_executor/platform/default/dso_loader.cc:44] Successfully opened dynamic library libcurand.so.10\n",
            "2020-06-06 14:20:04.766693: I tensorflow/stream_executor/platform/default/dso_loader.cc:44] Successfully opened dynamic library libcusolver.so.10\n",
            "2020-06-06 14:20:04.767483: I tensorflow/stream_executor/platform/default/dso_loader.cc:44] Successfully opened dynamic library libcusparse.so.10\n",
            "2020-06-06 14:20:04.775004: I tensorflow/stream_executor/platform/default/dso_loader.cc:44] Successfully opened dynamic library libcudnn.so.7\n",
            "2020-06-06 14:20:04.775148: I tensorflow/stream_executor/cuda/cuda_gpu_executor.cc:981] successful NUMA node read from SysFS had negative value (-1), but there must be at least one NUMA node, so returning NUMA node zero\n",
            "2020-06-06 14:20:04.776027: I tensorflow/stream_executor/cuda/cuda_gpu_executor.cc:981] successful NUMA node read from SysFS had negative value (-1), but there must be at least one NUMA node, so returning NUMA node zero\n",
            "2020-06-06 14:20:04.776752: I tensorflow/core/common_runtime/gpu/gpu_device.cc:1703] Adding visible gpu devices: 0\n",
            "2020-06-06 14:20:04.782704: I tensorflow/core/platform/profile_utils/cpu_utils.cc:102] CPU Frequency: 2300000000 Hz\n",
            "2020-06-06 14:20:04.782959: I tensorflow/compiler/xla/service/service.cc:168] XLA service 0x27bcf40 initialized for platform Host (this does not guarantee that XLA will be used). Devices:\n",
            "2020-06-06 14:20:04.782997: I tensorflow/compiler/xla/service/service.cc:176]   StreamExecutor device (0): Host, Default Version\n",
            "2020-06-06 14:20:04.830369: I tensorflow/stream_executor/cuda/cuda_gpu_executor.cc:981] successful NUMA node read from SysFS had negative value (-1), but there must be at least one NUMA node, so returning NUMA node zero\n",
            "2020-06-06 14:20:04.831260: I tensorflow/compiler/xla/service/service.cc:168] XLA service 0x27bcd80 initialized for platform CUDA (this does not guarantee that XLA will be used). Devices:\n",
            "2020-06-06 14:20:04.831299: I tensorflow/compiler/xla/service/service.cc:176]   StreamExecutor device (0): Tesla K80, Compute Capability 3.7\n",
            "2020-06-06 14:20:04.831590: I tensorflow/stream_executor/cuda/cuda_gpu_executor.cc:981] successful NUMA node read from SysFS had negative value (-1), but there must be at least one NUMA node, so returning NUMA node zero\n",
            "2020-06-06 14:20:04.832332: I tensorflow/core/common_runtime/gpu/gpu_device.cc:1561] Found device 0 with properties: \n",
            "pciBusID: 0000:00:04.0 name: Tesla K80 computeCapability: 3.7\n",
            "coreClock: 0.8235GHz coreCount: 13 deviceMemorySize: 11.17GiB deviceMemoryBandwidth: 223.96GiB/s\n",
            "2020-06-06 14:20:04.832382: I tensorflow/stream_executor/platform/default/dso_loader.cc:44] Successfully opened dynamic library libcudart.so.10.1\n",
            "2020-06-06 14:20:04.832444: I tensorflow/stream_executor/platform/default/dso_loader.cc:44] Successfully opened dynamic library libcublas.so.10\n",
            "2020-06-06 14:20:04.832482: I tensorflow/stream_executor/platform/default/dso_loader.cc:44] Successfully opened dynamic library libcufft.so.10\n",
            "2020-06-06 14:20:04.832544: I tensorflow/stream_executor/platform/default/dso_loader.cc:44] Successfully opened dynamic library libcurand.so.10\n",
            "2020-06-06 14:20:04.832587: I tensorflow/stream_executor/platform/default/dso_loader.cc:44] Successfully opened dynamic library libcusolver.so.10\n",
            "2020-06-06 14:20:04.832627: I tensorflow/stream_executor/platform/default/dso_loader.cc:44] Successfully opened dynamic library libcusparse.so.10\n",
            "2020-06-06 14:20:04.832665: I tensorflow/stream_executor/platform/default/dso_loader.cc:44] Successfully opened dynamic library libcudnn.so.7\n",
            "2020-06-06 14:20:04.832807: I tensorflow/stream_executor/cuda/cuda_gpu_executor.cc:981] successful NUMA node read from SysFS had negative value (-1), but there must be at least one NUMA node, so returning NUMA node zero\n",
            "2020-06-06 14:20:04.833618: I tensorflow/stream_executor/cuda/cuda_gpu_executor.cc:981] successful NUMA node read from SysFS had negative value (-1), but there must be at least one NUMA node, so returning NUMA node zero\n",
            "2020-06-06 14:20:04.834292: I tensorflow/core/common_runtime/gpu/gpu_device.cc:1703] Adding visible gpu devices: 0\n",
            "2020-06-06 14:20:04.834348: I tensorflow/stream_executor/platform/default/dso_loader.cc:44] Successfully opened dynamic library libcudart.so.10.1\n",
            "2020-06-06 14:20:05.250063: I tensorflow/core/common_runtime/gpu/gpu_device.cc:1102] Device interconnect StreamExecutor with strength 1 edge matrix:\n",
            "2020-06-06 14:20:05.250121: I tensorflow/core/common_runtime/gpu/gpu_device.cc:1108]      0 \n",
            "2020-06-06 14:20:05.250140: I tensorflow/core/common_runtime/gpu/gpu_device.cc:1121] 0:   N \n",
            "2020-06-06 14:20:05.250417: I tensorflow/stream_executor/cuda/cuda_gpu_executor.cc:981] successful NUMA node read from SysFS had negative value (-1), but there must be at least one NUMA node, so returning NUMA node zero\n",
            "2020-06-06 14:20:05.251229: I tensorflow/stream_executor/cuda/cuda_gpu_executor.cc:981] successful NUMA node read from SysFS had negative value (-1), but there must be at least one NUMA node, so returning NUMA node zero\n",
            "2020-06-06 14:20:05.251929: W tensorflow/core/common_runtime/gpu/gpu_bfc_allocator.cc:39] Overriding allow_growth setting because the TF_FORCE_GPU_ALLOW_GROWTH environment variable is set. Original config value was 0.\n",
            "2020-06-06 14:20:05.251983: I tensorflow/core/common_runtime/gpu/gpu_device.cc:1247] Created TensorFlow device (/job:localhost/replica:0/task:0/device:GPU:0 with 10634 MB memory) -> physical GPU (device: 0, name: Tesla K80, pci bus id: 0000:00:04.0, compute capability: 3.7)\n",
            "Model: \"sequential\"\n",
            "_________________________________________________________________\n",
            "Layer (type)                 Output Shape              Param #   \n",
            "=================================================================\n",
            "conv2d (Conv2D)              (None, 26, 26, 64)        640       \n",
            "_________________________________________________________________\n",
            "activation (Activation)      (None, 26, 26, 64)        0         \n",
            "_________________________________________________________________\n",
            "conv2d_1 (Conv2D)            (None, 24, 24, 64)        36928     \n",
            "_________________________________________________________________\n",
            "activation_1 (Activation)    (None, 24, 24, 64)        0         \n",
            "_________________________________________________________________\n",
            "max_pooling2d (MaxPooling2D) (None, 12, 12, 64)        0         \n",
            "_________________________________________________________________\n",
            "dropout (Dropout)            (None, 12, 12, 64)        0         \n",
            "_________________________________________________________________\n",
            "flatten (Flatten)            (None, 9216)              0         \n",
            "_________________________________________________________________\n",
            "dense (Dense)                (None, 128)               1179776   \n",
            "_________________________________________________________________\n",
            "activation_2 (Activation)    (None, 128)               0         \n",
            "_________________________________________________________________\n",
            "dropout_1 (Dropout)          (None, 128)               0         \n",
            "_________________________________________________________________\n",
            "dense_1 (Dense)              (None, 10)                1290      \n",
            "_________________________________________________________________\n",
            "activation_3 (Activation)    (None, 10)                0         \n",
            "=================================================================\n",
            "Total params: 1,218,634\n",
            "Trainable params: 1,218,634\n",
            "Non-trainable params: 0\n",
            "_________________________________________________________________\n",
            "\u001b[94m[train] \u001b[0mModel serving\n",
            "2020-06-06 14:20:05.921020: I tensorflow/stream_executor/platform/default/dso_loader.cc:44] Successfully opened dynamic library libcublas.so.10\n",
            "2020-06-06 14:20:06.103415: I tensorflow/stream_executor/platform/default/dso_loader.cc:44] Successfully opened dynamic library libcudnn.so.7\n",
            "469/469 [==============================] - 3s 6ms/step\n",
            "469/469 [==============================] - 3s 6ms/step\n",
            "\u001b[94m[train] \u001b[0mProcessing ATs\n",
            "Layer: activation_3\n",
            "\u001b[92mtrain ATs is saved at ./tmp/mnist_train_activation_3_ats.npy\u001b[0m\n",
            "\u001b[94m[test] \u001b[0mModel serving\n",
            "79/79 [==============================] - 0s 6ms/step\n",
            "79/79 [==============================] - 0s 6ms/step\n",
            "\u001b[94m[test] \u001b[0mProcessing ATs\n",
            "Layer: activation_3\n",
            "\u001b[92mtest ATs is saved at ./tmp/mnist_test_activation_3_ats.npy\u001b[0m\n",
            "kde: 100% 10/10 [00:00<00:00, 204.15it/s]\n",
            "\u001b[92mThe number of removed columns: 0\u001b[0m\n",
            "Kernel density estimations = {0: <scipy.stats.kde.gaussian_kde object at 0x7f801032ea20>, 1: <scipy.stats.kde.gaussian_kde object at 0x7f80103299e8>, 2: <scipy.stats.kde.gaussian_kde object at 0x7f801032ee48>, 3: <scipy.stats.kde.gaussian_kde object at 0x7f8010365198>, 4: <scipy.stats.kde.gaussian_kde object at 0x7f80103650f0>, 5: <scipy.stats.kde.gaussian_kde object at 0x7f8010365978>, 6: <scipy.stats.kde.gaussian_kde object at 0x7f80103650b8>, 7: <scipy.stats.kde.gaussian_kde object at 0x7f80103655f8>, 8: <scipy.stats.kde.gaussian_kde object at 0x7f80103652b0>, 9: <scipy.stats.kde.gaussian_kde object at 0x7f8010365fd0>}\n",
            "\u001b[94m[test] \u001b[0mFetching LSA\n",
            "100% 10000/10000 [00:13<00:00, 739.31it/s]\n",
            "\u001b[92mFound saved train ATs, skip serving\u001b[0m\n",
            "\u001b[94m[fgsm] \u001b[0mModel serving\n",
            "79/79 [==============================] - 0s 6ms/step\n",
            "79/79 [==============================] - 0s 6ms/step\n",
            "\u001b[94m[fgsm] \u001b[0mProcessing ATs\n",
            "Layer: activation_3\n",
            "\u001b[92mfgsm ATs is saved at ./tmp/mnist_fgsm_activation_3_ats.npy\u001b[0m\n",
            "kde: 100% 10/10 [00:00<00:00, 435.07it/s]\n",
            "\u001b[92mThe number of removed columns: 0\u001b[0m\n",
            "Kernel density estimations = {0: <scipy.stats.kde.gaussian_kde object at 0x7f80101099b0>, 1: <scipy.stats.kde.gaussian_kde object at 0x7f80101097b8>, 2: <scipy.stats.kde.gaussian_kde object at 0x7f80102f5240>, 3: <scipy.stats.kde.gaussian_kde object at 0x7f80102f5710>, 4: <scipy.stats.kde.gaussian_kde object at 0x7f80102f5748>, 5: <scipy.stats.kde.gaussian_kde object at 0x7f80102f56d8>, 6: <scipy.stats.kde.gaussian_kde object at 0x7f8010102eb8>, 7: <scipy.stats.kde.gaussian_kde object at 0x7f8010102e48>, 8: <scipy.stats.kde.gaussian_kde object at 0x7f8010102ef0>, 9: <scipy.stats.kde.gaussian_kde object at 0x7f801011b5c0>}\n",
            "\u001b[94m[fgsm] \u001b[0mFetching LSA\n",
            "100% 10000/10000 [00:13<00:00, 755.09it/s]\n",
            "\u001b[92mROC-AUC: 85.95162592592591\u001b[0m\n",
            "\u001b[92mfgsm coverage: 3.3000000000000003\u001b[0m\n",
            "2020-06-06 14:20:45.628411: I tensorflow/stream_executor/platform/default/dso_loader.cc:44] Successfully opened dynamic library libcudart.so.10.1\n",
            "Namespace(batch_size=128, d='mnist', dsa=True, is_classification=True, lsa=False, n_bucket=1000, num_classes=10, save_path='./tmp/', target='fgsm', upper_bound=2000, var_threshold=1e-05)\n",
            "2020-06-06 14:20:48.206470: I tensorflow/stream_executor/platform/default/dso_loader.cc:44] Successfully opened dynamic library libcuda.so.1\n",
            "2020-06-06 14:20:48.209718: I tensorflow/stream_executor/cuda/cuda_gpu_executor.cc:981] successful NUMA node read from SysFS had negative value (-1), but there must be at least one NUMA node, so returning NUMA node zero\n",
            "2020-06-06 14:20:48.210415: I tensorflow/core/common_runtime/gpu/gpu_device.cc:1561] Found device 0 with properties: \n",
            "pciBusID: 0000:00:04.0 name: Tesla K80 computeCapability: 3.7\n",
            "coreClock: 0.8235GHz coreCount: 13 deviceMemorySize: 11.17GiB deviceMemoryBandwidth: 223.96GiB/s\n",
            "2020-06-06 14:20:48.210466: I tensorflow/stream_executor/platform/default/dso_loader.cc:44] Successfully opened dynamic library libcudart.so.10.1\n",
            "2020-06-06 14:20:48.212205: I tensorflow/stream_executor/platform/default/dso_loader.cc:44] Successfully opened dynamic library libcublas.so.10\n",
            "2020-06-06 14:20:48.213808: I tensorflow/stream_executor/platform/default/dso_loader.cc:44] Successfully opened dynamic library libcufft.so.10\n",
            "2020-06-06 14:20:48.214238: I tensorflow/stream_executor/platform/default/dso_loader.cc:44] Successfully opened dynamic library libcurand.so.10\n",
            "2020-06-06 14:20:48.216162: I tensorflow/stream_executor/platform/default/dso_loader.cc:44] Successfully opened dynamic library libcusolver.so.10\n",
            "2020-06-06 14:20:48.216948: I tensorflow/stream_executor/platform/default/dso_loader.cc:44] Successfully opened dynamic library libcusparse.so.10\n",
            "2020-06-06 14:20:48.221432: I tensorflow/stream_executor/platform/default/dso_loader.cc:44] Successfully opened dynamic library libcudnn.so.7\n",
            "2020-06-06 14:20:48.221613: I tensorflow/stream_executor/cuda/cuda_gpu_executor.cc:981] successful NUMA node read from SysFS had negative value (-1), but there must be at least one NUMA node, so returning NUMA node zero\n",
            "2020-06-06 14:20:48.222462: I tensorflow/stream_executor/cuda/cuda_gpu_executor.cc:981] successful NUMA node read from SysFS had negative value (-1), but there must be at least one NUMA node, so returning NUMA node zero\n",
            "2020-06-06 14:20:48.223155: I tensorflow/core/common_runtime/gpu/gpu_device.cc:1703] Adding visible gpu devices: 0\n",
            "2020-06-06 14:20:48.229507: I tensorflow/core/platform/profile_utils/cpu_utils.cc:102] CPU Frequency: 2300000000 Hz\n",
            "2020-06-06 14:20:48.229797: I tensorflow/compiler/xla/service/service.cc:168] XLA service 0x20b6f40 initialized for platform Host (this does not guarantee that XLA will be used). Devices:\n",
            "2020-06-06 14:20:48.229836: I tensorflow/compiler/xla/service/service.cc:176]   StreamExecutor device (0): Host, Default Version\n",
            "2020-06-06 14:20:48.276891: I tensorflow/stream_executor/cuda/cuda_gpu_executor.cc:981] successful NUMA node read from SysFS had negative value (-1), but there must be at least one NUMA node, so returning NUMA node zero\n",
            "2020-06-06 14:20:48.277993: I tensorflow/compiler/xla/service/service.cc:168] XLA service 0x20b6d80 initialized for platform CUDA (this does not guarantee that XLA will be used). Devices:\n",
            "2020-06-06 14:20:48.278029: I tensorflow/compiler/xla/service/service.cc:176]   StreamExecutor device (0): Tesla K80, Compute Capability 3.7\n",
            "2020-06-06 14:20:48.278245: I tensorflow/stream_executor/cuda/cuda_gpu_executor.cc:981] successful NUMA node read from SysFS had negative value (-1), but there must be at least one NUMA node, so returning NUMA node zero\n",
            "2020-06-06 14:20:48.278998: I tensorflow/core/common_runtime/gpu/gpu_device.cc:1561] Found device 0 with properties: \n",
            "pciBusID: 0000:00:04.0 name: Tesla K80 computeCapability: 3.7\n",
            "coreClock: 0.8235GHz coreCount: 13 deviceMemorySize: 11.17GiB deviceMemoryBandwidth: 223.96GiB/s\n",
            "2020-06-06 14:20:48.279051: I tensorflow/stream_executor/platform/default/dso_loader.cc:44] Successfully opened dynamic library libcudart.so.10.1\n",
            "2020-06-06 14:20:48.279113: I tensorflow/stream_executor/platform/default/dso_loader.cc:44] Successfully opened dynamic library libcublas.so.10\n",
            "2020-06-06 14:20:48.279152: I tensorflow/stream_executor/platform/default/dso_loader.cc:44] Successfully opened dynamic library libcufft.so.10\n",
            "2020-06-06 14:20:48.279202: I tensorflow/stream_executor/platform/default/dso_loader.cc:44] Successfully opened dynamic library libcurand.so.10\n",
            "2020-06-06 14:20:48.279242: I tensorflow/stream_executor/platform/default/dso_loader.cc:44] Successfully opened dynamic library libcusolver.so.10\n",
            "2020-06-06 14:20:48.279278: I tensorflow/stream_executor/platform/default/dso_loader.cc:44] Successfully opened dynamic library libcusparse.so.10\n",
            "2020-06-06 14:20:48.279325: I tensorflow/stream_executor/platform/default/dso_loader.cc:44] Successfully opened dynamic library libcudnn.so.7\n",
            "2020-06-06 14:20:48.279460: I tensorflow/stream_executor/cuda/cuda_gpu_executor.cc:981] successful NUMA node read from SysFS had negative value (-1), but there must be at least one NUMA node, so returning NUMA node zero\n",
            "2020-06-06 14:20:48.280273: I tensorflow/stream_executor/cuda/cuda_gpu_executor.cc:981] successful NUMA node read from SysFS had negative value (-1), but there must be at least one NUMA node, so returning NUMA node zero\n",
            "2020-06-06 14:20:48.281035: I tensorflow/core/common_runtime/gpu/gpu_device.cc:1703] Adding visible gpu devices: 0\n",
            "2020-06-06 14:20:48.281090: I tensorflow/stream_executor/platform/default/dso_loader.cc:44] Successfully opened dynamic library libcudart.so.10.1\n",
            "2020-06-06 14:20:48.705151: I tensorflow/core/common_runtime/gpu/gpu_device.cc:1102] Device interconnect StreamExecutor with strength 1 edge matrix:\n",
            "2020-06-06 14:20:48.705224: I tensorflow/core/common_runtime/gpu/gpu_device.cc:1108]      0 \n",
            "2020-06-06 14:20:48.705261: I tensorflow/core/common_runtime/gpu/gpu_device.cc:1121] 0:   N \n",
            "2020-06-06 14:20:48.705613: I tensorflow/stream_executor/cuda/cuda_gpu_executor.cc:981] successful NUMA node read from SysFS had negative value (-1), but there must be at least one NUMA node, so returning NUMA node zero\n",
            "2020-06-06 14:20:48.706432: I tensorflow/stream_executor/cuda/cuda_gpu_executor.cc:981] successful NUMA node read from SysFS had negative value (-1), but there must be at least one NUMA node, so returning NUMA node zero\n",
            "2020-06-06 14:20:48.707261: W tensorflow/core/common_runtime/gpu/gpu_bfc_allocator.cc:39] Overriding allow_growth setting because the TF_FORCE_GPU_ALLOW_GROWTH environment variable is set. Original config value was 0.\n",
            "2020-06-06 14:20:48.707326: I tensorflow/core/common_runtime/gpu/gpu_device.cc:1247] Created TensorFlow device (/job:localhost/replica:0/task:0/device:GPU:0 with 10634 MB memory) -> physical GPU (device: 0, name: Tesla K80, pci bus id: 0000:00:04.0, compute capability: 3.7)\n",
            "Model: \"sequential\"\n",
            "_________________________________________________________________\n",
            "Layer (type)                 Output Shape              Param #   \n",
            "=================================================================\n",
            "conv2d (Conv2D)              (None, 26, 26, 64)        640       \n",
            "_________________________________________________________________\n",
            "activation (Activation)      (None, 26, 26, 64)        0         \n",
            "_________________________________________________________________\n",
            "conv2d_1 (Conv2D)            (None, 24, 24, 64)        36928     \n",
            "_________________________________________________________________\n",
            "activation_1 (Activation)    (None, 24, 24, 64)        0         \n",
            "_________________________________________________________________\n",
            "max_pooling2d (MaxPooling2D) (None, 12, 12, 64)        0         \n",
            "_________________________________________________________________\n",
            "dropout (Dropout)            (None, 12, 12, 64)        0         \n",
            "_________________________________________________________________\n",
            "flatten (Flatten)            (None, 9216)              0         \n",
            "_________________________________________________________________\n",
            "dense (Dense)                (None, 128)               1179776   \n",
            "_________________________________________________________________\n",
            "activation_2 (Activation)    (None, 128)               0         \n",
            "_________________________________________________________________\n",
            "dropout_1 (Dropout)          (None, 128)               0         \n",
            "_________________________________________________________________\n",
            "dense_1 (Dense)              (None, 10)                1290      \n",
            "_________________________________________________________________\n",
            "activation_3 (Activation)    (None, 10)                0         \n",
            "=================================================================\n",
            "Total params: 1,218,634\n",
            "Trainable params: 1,218,634\n",
            "Non-trainable params: 0\n",
            "_________________________________________________________________\n",
            "\u001b[92mFound saved train ATs, skip serving\u001b[0m\n",
            "\u001b[92mFound saved test ATs, skip serving\u001b[0m\n",
            "\u001b[94m[test] \u001b[0mFetching DSA\n",
            "100% 10000/10000 [03:02<00:00, 54.85it/s]\n",
            "\u001b[92mFound saved train ATs, skip serving\u001b[0m\n",
            "\u001b[92mFound saved fgsm ATs, skip serving\u001b[0m\n",
            "\u001b[94m[fgsm] \u001b[0mFetching DSA\n",
            "100% 10000/10000 [03:02<00:00, 54.91it/s]\n",
            "\u001b[92mROC-AUC: 88.4589024691358\u001b[0m\n",
            "\u001b[92mfgsm coverage: 0.2\u001b[0m\n"
          ],
          "name": "stdout"
        }
      ]
    },
    {
      "cell_type": "markdown",
      "metadata": {
        "collapsed": false,
        "id": "q0-vF2O3-IFN",
        "colab_type": "text"
      },
      "source": [
        "## Save the results to Google Drive"
      ]
    },
    {
      "cell_type": "code",
      "metadata": {
        "pycharm": {
          "name": "#%%\n"
        },
        "id": "tiPdWmT--IFN",
        "colab_type": "code",
        "colab": {
          "base_uri": "https://localhost:8080/",
          "height": 1000
        },
        "outputId": "9e9b81a4-9d28-41d6-8ae2-0d9b55ddb304"
      },
      "source": [
        "%cd ..\n",
        "!zip -r $REPOSITORY.zip $REPOSITORY\n",
        "!cp -R $REPOSITORY.zip drive/My\\ Drive/\n",
        "!ls drive/My\\ Drive"
      ],
      "execution_count": 12,
      "outputs": [
        {
          "output_type": "stream",
          "text": [
            "  adding: sadl/ (stored 0%)\n",
            "  adding: sadl/README.md (deflated 58%)\n",
            "  adding: sadl/.git/ (stored 0%)\n",
            "  adding: sadl/.git/index (deflated 51%)\n",
            "  adding: sadl/.git/refs/ (stored 0%)\n",
            "  adding: sadl/.git/refs/remotes/ (stored 0%)\n",
            "  adding: sadl/.git/refs/remotes/origin/ (stored 0%)\n",
            "  adding: sadl/.git/refs/remotes/origin/HEAD (stored 0%)\n",
            "  adding: sadl/.git/refs/heads/ (stored 0%)\n",
            "  adding: sadl/.git/refs/heads/master (stored 0%)\n",
            "  adding: sadl/.git/refs/tags/ (stored 0%)\n",
            "  adding: sadl/.git/packed-refs (deflated 29%)\n",
            "  adding: sadl/.git/config (deflated 29%)\n",
            "  adding: sadl/.git/HEAD (stored 0%)\n",
            "  adding: sadl/.git/branches/ (stored 0%)\n",
            "  adding: sadl/.git/info/ (stored 0%)\n",
            "  adding: sadl/.git/info/exclude (deflated 28%)\n",
            "  adding: sadl/.git/description (deflated 14%)\n",
            "  adding: sadl/.git/logs/ (stored 0%)\n",
            "  adding: sadl/.git/logs/refs/ (stored 0%)\n",
            "  adding: sadl/.git/logs/refs/remotes/ (stored 0%)\n",
            "  adding: sadl/.git/logs/refs/remotes/origin/ (stored 0%)\n",
            "  adding: sadl/.git/logs/refs/remotes/origin/HEAD (deflated 26%)\n",
            "  adding: sadl/.git/logs/refs/heads/ (stored 0%)\n",
            "  adding: sadl/.git/logs/refs/heads/master (deflated 26%)\n",
            "  adding: sadl/.git/logs/HEAD (deflated 26%)\n",
            "  adding: sadl/.git/hooks/ (stored 0%)\n",
            "  adding: sadl/.git/hooks/pre-applypatch.sample (deflated 38%)\n",
            "  adding: sadl/.git/hooks/pre-receive.sample (deflated 40%)\n",
            "  adding: sadl/.git/hooks/post-update.sample (deflated 27%)\n",
            "  adding: sadl/.git/hooks/update.sample (deflated 68%)\n",
            "  adding: sadl/.git/hooks/commit-msg.sample (deflated 44%)\n",
            "  adding: sadl/.git/hooks/applypatch-msg.sample (deflated 42%)\n",
            "  adding: sadl/.git/hooks/pre-push.sample (deflated 50%)\n",
            "  adding: sadl/.git/hooks/prepare-commit-msg.sample (deflated 50%)\n",
            "  adding: sadl/.git/hooks/pre-rebase.sample (deflated 59%)\n",
            "  adding: sadl/.git/hooks/fsmonitor-watchman.sample (deflated 53%)\n",
            "  adding: sadl/.git/hooks/pre-commit.sample (deflated 43%)\n",
            "  adding: sadl/.git/objects/ (stored 0%)\n",
            "  adding: sadl/.git/objects/pack/ (stored 0%)\n",
            "  adding: sadl/.git/objects/pack/pack-ab9f588b089d03d917953d6296ce35925c064c4a.pack (deflated 1%)\n",
            "  adding: sadl/.git/objects/pack/pack-ab9f588b089d03d917953d6296ce35925c064c4a.idx (deflated 17%)\n",
            "  adding: sadl/.git/objects/info/ (stored 0%)\n",
            "  adding: sadl/__pycache__/ (stored 0%)\n",
            "  adding: sadl/__pycache__/utils.cpython-36.pyc (deflated 47%)\n",
            "  adding: sadl/__pycache__/sa.cpython-36.pyc (deflated 57%)\n",
            "  adding: sadl/run.py (deflated 71%)\n",
            "  adding: sadl/docs/ (stored 0%)\n",
            "  adding: sadl/docs/css/ (stored 0%)\n",
            "  adding: sadl/docs/css/main.scss (deflated 54%)\n",
            "  adding: sadl/docs/figures/ (stored 0%)\n",
            "  adding: sadl/docs/figures/RQ1_sorted_dsa.png (deflated 3%)\n",
            "  adding: sadl/docs/figures/RQ1_sorted_dsa_cifar_class.png (deflated 4%)\n",
            "  adding: sadl/docs/figures/RQ1_sorted_das_cifar.png (deflated 5%)\n",
            "  adding: sadl/docs/figures/RQ2_layer_selection_mnist_full.png (deflated 4%)\n",
            "  adding: sadl/docs/figures/RQ3_coverages_mnist.png (deflated 4%)\n",
            "  adding: sadl/docs/figures/RQ1_test_accuracy.png (deflated 7%)\n",
            "  adding: sadl/docs/figures/RQ2_layer_selection_cifar_full.png (deflated 4%)\n",
            "  adding: sadl/docs/figures/RQ3_coverages_deepxplore.png (deflated 6%)\n",
            "  adding: sadl/docs/figures/RQ1_sorted_das_mnist.png (deflated 6%)\n",
            "  adding: sadl/docs/figures/RQ1_sorted_dsa_mnist_class.png (deflated 4%)\n",
            "  adding: sadl/docs/figures/RQ3_coverages_deeptest.png (deflated 8%)\n",
            "  adding: sadl/docs/figures/RQ3.png (deflated 5%)\n",
            "  adding: sadl/docs/figures/RQ3_coverages_cifar.png (deflated 5%)\n",
            "  adding: sadl/docs/README.md (deflated 42%)\n",
            "  adding: sadl/docs/CHANGELOG.md (deflated 27%)\n",
            "  adding: sadl/docs/feed.xml (deflated 63%)\n",
            "  adding: sadl/docs/index.markdown (deflated 78%)\n",
            "  adding: sadl/docs/_layouts/ (stored 0%)\n",
            "  adding: sadl/docs/_layouts/post.html (stored 0%)\n",
            "  adding: sadl/docs/_layouts/default.html (deflated 33%)\n",
            "  adding: sadl/docs/_layouts/page.html (deflated 47%)\n",
            "  adding: sadl/docs/_posts/ (stored 0%)\n",
            "  adding: sadl/docs/_posts/2014-01-03-two-thousand-fourteen.markdown (deflated 37%)\n",
            "  adding: sadl/docs/_posts/2015-12-01-welcome-to-jekyll.markdown (deflated 43%)\n",
            "  adding: sadl/docs/Gemfile (deflated 45%)\n",
            "  adding: sadl/docs/_pages/ (stored 0%)\n",
            "  adding: sadl/docs/_pages/articles.html (deflated 62%)\n",
            "  adding: sadl/docs/_pages/about.markdown (deflated 67%)\n",
            "  adding: sadl/docs/_sass/ (stored 0%)\n",
            "  adding: sadl/docs/_sass/components/ (stored 0%)\n",
            "  adding: sadl/docs/_sass/components/_buttons.scss (deflated 53%)\n",
            "  adding: sadl/docs/_sass/components/_social.scss (deflated 35%)\n",
            "  adding: sadl/docs/_sass/components/_article.scss (deflated 59%)\n",
            "  adding: sadl/docs/_sass/components/_archives.scss (deflated 68%)\n",
            "  adding: sadl/docs/_sass/components/_navigation.scss (deflated 61%)\n",
            "  adding: sadl/docs/_sass/components/_header.scss (deflated 57%)\n",
            "  adding: sadl/docs/_sass/components/_footer.scss (deflated 62%)\n",
            "  adding: sadl/docs/_sass/vendor/ (stored 0%)\n",
            "  adding: sadl/docs/_sass/vendor/_syntax-highlighting.scss (deflated 74%)\n",
            "  adding: sadl/docs/_sass/helpers/ (stored 0%)\n",
            "  adding: sadl/docs/_sass/helpers/_variables.scss (deflated 57%)\n",
            "  adding: sadl/docs/_sass/helpers/_mixins.scss (deflated 68%)\n",
            "  adding: sadl/docs/_sass/utilities/ (stored 0%)\n",
            "  adding: sadl/docs/_sass/utilities/_layout.scss (deflated 63%)\n",
            "  adding: sadl/docs/_sass/utilities/_themes.scss (deflated 77%)\n",
            "  adding: sadl/docs/_sass/base/ (stored 0%)\n",
            "  adding: sadl/docs/_sass/base/_reset.scss (deflated 53%)\n",
            "  adding: sadl/docs/_sass/themes/ (stored 0%)\n",
            "  adding: sadl/docs/_sass/themes/_grey.scss (deflated 62%)\n",
            "  adding: sadl/docs/_sass/themes/_blue.scss (deflated 62%)\n",
            "  adding: sadl/docs/_sass/themes/_purple.scss (deflated 63%)\n",
            "  adding: sadl/docs/_sass/themes/_green.scss (deflated 62%)\n",
            "  adding: sadl/docs/_sass/themes/_orange.scss (deflated 63%)\n",
            "  adding: sadl/docs/LICENSE (deflated 41%)\n",
            "  adding: sadl/docs/_config.yml (deflated 45%)\n",
            "  adding: sadl/docs/_includes/ (stored 0%)\n",
            "  adding: sadl/docs/_includes/head.html (deflated 52%)\n",
            "  adding: sadl/docs/_includes/social.html (deflated 76%)\n",
            "  adding: sadl/docs/_includes/image.html (deflated 35%)\n",
            "  adding: sadl/docs/_includes/navigation.html (deflated 64%)\n",
            "  adding: sadl/docs/_includes/footer.html (deflated 61%)\n",
            "  adding: sadl/utils.py (deflated 67%)\n",
            "  adding: sadl/tmp/ (stored 0%)\n",
            "  adding: sadl/tmp/mnist_test_pred.npy (deflated 91%)\n",
            "  adding: sadl/tmp/mnist_fgsm_pred.npy (deflated 91%)\n",
            "  adding: sadl/tmp/mnist_train_pred.npy (deflated 91%)\n",
            "  adding: sadl/tmp/mnist_fgsm_activation_3_ats.npy (deflated 8%)\n",
            "  adding: sadl/tmp/.keep (stored 0%)\n",
            "  adding: sadl/tmp/mnist_test_activation_3_ats.npy (deflated 6%)\n",
            "  adding: sadl/tmp/mnist_train_activation_3_ats.npy (deflated 6%)\n",
            "  adding: sadl/sa.py (deflated 77%)\n",
            "  adding: sadl/train.ipynb (deflated 75%)\n",
            "  adding: sadl/LICENSE (deflated 41%)\n",
            "  adding: sadl/requirements.txt (deflated 2%)\n",
            "  adding: sadl/.gitignore (deflated 3%)\n",
            "  adding: sadl/train_model.py (deflated 71%)\n",
            "  adding: sadl/adv/ (stored 0%)\n",
            "  adding: sadl/adv/adv_mnist_fgsm.npy (deflated 88%)\n",
            "  adding: sadl/model/ (stored 0%)\n",
            "  adding: sadl/model/.keep (stored 0%)\n",
            "  adding: sadl/model/model_mnist.h5 (deflated 9%)\n",
            "'Colab Notebooks'\t\t\t        datasets\n",
            "'Copy of 2020_03_Homework .gdoc'\t        sadl.zip\n",
            "'Copy of Pitch Presentation Template.gslides'\n"
          ],
          "name": "stdout"
        }
      ]
    },
    {
      "cell_type": "code",
      "metadata": {
        "id": "7Loga7J5CTLa",
        "colab_type": "code",
        "colab": {}
      },
      "source": [
        ""
      ],
      "execution_count": 0,
      "outputs": []
    }
  ]
}